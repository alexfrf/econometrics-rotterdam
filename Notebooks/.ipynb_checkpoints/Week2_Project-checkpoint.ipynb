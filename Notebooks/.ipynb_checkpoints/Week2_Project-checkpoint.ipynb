{
 "cells": [
  {
   "cell_type": "markdown",
   "metadata": {},
   "source": [
    "## Training Exercises Week2"
   ]
  },
  {
   "cell_type": "markdown",
   "metadata": {},
   "source": [
    "### Training Exercise 2.1."
   ]
  },
  {
   "cell_type": "code",
   "execution_count": 1,
   "metadata": {},
   "outputs": [],
   "source": [
    "import pandas as pd\n",
    "import numpy as np\n",
    "import matplotlib.pyplot as plt\n",
    "from scipy import stats\n",
    "import seaborn as sns\n",
    "from statsmodels.formula.api import ols\n",
    "import statsmodels.stats.api as sms\n",
    "import statsmodels.api as sm\n",
    "import os\n",
    "from pathlib import Path"
   ]
  },
  {
   "cell_type": "code",
   "execution_count": 2,
   "metadata": {},
   "outputs": [],
   "source": [
    "base_dir = os.path.join('',Path(os.getcwd()).parents[0])\n",
    "data_dir = os.path.join(base_dir, 'Data')"
   ]
  },
  {
   "cell_type": "code",
   "execution_count": 3,
   "metadata": {},
   "outputs": [
    {
     "data": {
      "text/html": [
       "<div>\n",
       "<style scoped>\n",
       "    .dataframe tbody tr th:only-of-type {\n",
       "        vertical-align: middle;\n",
       "    }\n",
       "\n",
       "    .dataframe tbody tr th {\n",
       "        vertical-align: top;\n",
       "    }\n",
       "\n",
       "    .dataframe thead th {\n",
       "        text-align: right;\n",
       "    }\n",
       "</style>\n",
       "<table border=\"1\" class=\"dataframe\">\n",
       "  <thead>\n",
       "    <tr style=\"text-align: right;\">\n",
       "      <th></th>\n",
       "      <th>Observation</th>\n",
       "      <th>Wage</th>\n",
       "      <th>LogWage</th>\n",
       "      <th>Female</th>\n",
       "      <th>Age</th>\n",
       "      <th>Educ</th>\n",
       "      <th>Parttime</th>\n",
       "    </tr>\n",
       "  </thead>\n",
       "  <tbody>\n",
       "    <tr>\n",
       "      <th>0</th>\n",
       "      <td>1</td>\n",
       "      <td>66</td>\n",
       "      <td>4.189655</td>\n",
       "      <td>0</td>\n",
       "      <td>49</td>\n",
       "      <td>1</td>\n",
       "      <td>1</td>\n",
       "    </tr>\n",
       "    <tr>\n",
       "      <th>1</th>\n",
       "      <td>2</td>\n",
       "      <td>34</td>\n",
       "      <td>3.526361</td>\n",
       "      <td>1</td>\n",
       "      <td>42</td>\n",
       "      <td>1</td>\n",
       "      <td>1</td>\n",
       "    </tr>\n",
       "    <tr>\n",
       "      <th>2</th>\n",
       "      <td>3</td>\n",
       "      <td>70</td>\n",
       "      <td>4.248495</td>\n",
       "      <td>1</td>\n",
       "      <td>42</td>\n",
       "      <td>1</td>\n",
       "      <td>1</td>\n",
       "    </tr>\n",
       "    <tr>\n",
       "      <th>3</th>\n",
       "      <td>4</td>\n",
       "      <td>47</td>\n",
       "      <td>3.850148</td>\n",
       "      <td>0</td>\n",
       "      <td>38</td>\n",
       "      <td>1</td>\n",
       "      <td>0</td>\n",
       "    </tr>\n",
       "    <tr>\n",
       "      <th>4</th>\n",
       "      <td>5</td>\n",
       "      <td>107</td>\n",
       "      <td>4.672829</td>\n",
       "      <td>1</td>\n",
       "      <td>54</td>\n",
       "      <td>1</td>\n",
       "      <td>1</td>\n",
       "    </tr>\n",
       "    <tr>\n",
       "      <th>...</th>\n",
       "      <td>...</td>\n",
       "      <td>...</td>\n",
       "      <td>...</td>\n",
       "      <td>...</td>\n",
       "      <td>...</td>\n",
       "      <td>...</td>\n",
       "      <td>...</td>\n",
       "    </tr>\n",
       "    <tr>\n",
       "      <th>495</th>\n",
       "      <td>496</td>\n",
       "      <td>139</td>\n",
       "      <td>4.934474</td>\n",
       "      <td>0</td>\n",
       "      <td>32</td>\n",
       "      <td>4</td>\n",
       "      <td>0</td>\n",
       "    </tr>\n",
       "    <tr>\n",
       "      <th>496</th>\n",
       "      <td>497</td>\n",
       "      <td>124</td>\n",
       "      <td>4.820282</td>\n",
       "      <td>0</td>\n",
       "      <td>33</td>\n",
       "      <td>4</td>\n",
       "      <td>0</td>\n",
       "    </tr>\n",
       "    <tr>\n",
       "      <th>497</th>\n",
       "      <td>498</td>\n",
       "      <td>173</td>\n",
       "      <td>5.153292</td>\n",
       "      <td>0</td>\n",
       "      <td>38</td>\n",
       "      <td>4</td>\n",
       "      <td>0</td>\n",
       "    </tr>\n",
       "    <tr>\n",
       "      <th>498</th>\n",
       "      <td>499</td>\n",
       "      <td>154</td>\n",
       "      <td>5.036953</td>\n",
       "      <td>0</td>\n",
       "      <td>27</td>\n",
       "      <td>4</td>\n",
       "      <td>0</td>\n",
       "    </tr>\n",
       "    <tr>\n",
       "      <th>499</th>\n",
       "      <td>500</td>\n",
       "      <td>141</td>\n",
       "      <td>4.948760</td>\n",
       "      <td>0</td>\n",
       "      <td>29</td>\n",
       "      <td>4</td>\n",
       "      <td>0</td>\n",
       "    </tr>\n",
       "  </tbody>\n",
       "</table>\n",
       "<p>500 rows × 7 columns</p>\n",
       "</div>"
      ],
      "text/plain": [
       "     Observation  Wage   LogWage  Female  Age  Educ  Parttime\n",
       "0              1    66  4.189655       0   49     1         1\n",
       "1              2    34  3.526361       1   42     1         1\n",
       "2              3    70  4.248495       1   42     1         1\n",
       "3              4    47  3.850148       0   38     1         0\n",
       "4              5   107  4.672829       1   54     1         1\n",
       "..           ...   ...       ...     ...  ...   ...       ...\n",
       "495          496   139  4.934474       0   32     4         0\n",
       "496          497   124  4.820282       0   33     4         0\n",
       "497          498   173  5.153292       0   38     4         0\n",
       "498          499   154  5.036953       0   27     4         0\n",
       "499          500   141  4.948760       0   29     4         0\n",
       "\n",
       "[500 rows x 7 columns]"
      ]
     },
     "execution_count": 3,
     "metadata": {},
     "output_type": "execute_result"
    }
   ],
   "source": [
    "data = pd.read_excel(data_dir+'/TrainExer21.xlsx')\n",
    "data.head()"
   ]
  },
  {
   "cell_type": "markdown",
   "metadata": {},
   "source": [
    "**a) Use dataset TrainExer21 to regress log-wage on a constant and the gender dummy ‘Female’, and check the\n",
    "result presented in Lecture 2.1 that log(Wage) = 4.73 − 0.25Female + e.**"
   ]
  },
  {
   "cell_type": "code",
   "execution_count": 4,
   "metadata": {},
   "outputs": [
    {
     "name": "stdout",
     "output_type": "stream",
     "text": [
      "                            OLS Regression Results                            \n",
      "==============================================================================\n",
      "Dep. Variable:                LogWage   R-squared:                       0.073\n",
      "Model:                            OLS   Adj. R-squared:                  0.071\n",
      "Method:                 Least Squares   F-statistic:                     39.08\n",
      "Date:                Tue, 07 Feb 2023   Prob (F-statistic):           8.74e-10\n",
      "Time:                        02:28:36   Log-Likelihood:                -289.67\n",
      "No. Observations:                 500   AIC:                             583.3\n",
      "Df Residuals:                     498   BIC:                             591.8\n",
      "Df Model:                           1                                         \n",
      "Covariance Type:                  HC3                                         \n",
      "==============================================================================\n",
      "                 coef    std err          z      P>|z|      [0.025      0.975]\n",
      "------------------------------------------------------------------------------\n",
      "Intercept      4.7336      0.024    193.281      0.000       4.686       4.782\n",
      "Female        -0.2506      0.040     -6.252      0.000      -0.329      -0.172\n",
      "==============================================================================\n",
      "Omnibus:                        8.320   Durbin-Watson:                   1.383\n",
      "Prob(Omnibus):                  0.016   Jarque-Bera (JB):                7.001\n",
      "Skew:                           0.212   Prob(JB):                       0.0302\n",
      "Kurtosis:                       2.604   Cond. No.                         2.42\n",
      "==============================================================================\n",
      "\n",
      "Notes:\n",
      "[1] Standard Errors are heteroscedasticity robust (HC3)\n"
     ]
    }
   ],
   "source": [
    "reg1 = ols('LogWage ~ Female',data=data).fit(cov_type='HC3')\n",
    "print(reg1.summary())"
   ]
  },
  {
   "cell_type": "code",
   "execution_count": 5,
   "metadata": {},
   "outputs": [
    {
     "name": "stdout",
     "output_type": "stream",
     "text": [
      "b = -0.25\n",
      "a = 4.73\n",
      "rsq = 0.07\n"
     ]
    }
   ],
   "source": [
    "sentence= '{} = {}'\n",
    "b,a,r_value,p_value,std_err = stats.linregress(x=data.Female,y=data.LogWage)\n",
    "print(sentence.format('b',b.round(2)))\n",
    "print(sentence.format('a',a.round(2)))\n",
    "print(sentence.format('rsq',(r_value**2).round(2)))"
   ]
  },
  {
   "cell_type": "code",
   "execution_count": 6,
   "metadata": {},
   "outputs": [
    {
     "name": "stdout",
     "output_type": "stream",
     "text": [
      "LogWage = -0.25Female + 4.73 + e\n"
     ]
    }
   ],
   "source": [
    "print('{} = {}Female + {} + {}'.format('LogWage',b.round(2),a.round(2),'e'))"
   ]
  },
  {
   "cell_type": "markdown",
   "metadata": {},
   "source": [
    "**a) Female -> -25% wage, as b in reg1 = 0.25 (negative)** - A female, in equality/non-prevalence of the rest of factors would earn a 25% less than a male"
   ]
  },
  {
   "cell_type": "markdown",
   "metadata": {},
   "source": [
    "**b) Let e be the series of residuals of the regression in part (a). Perform two regressions:**\n",
    "\n",
    "(i) e on a constant and education;\n",
    "\n",
    "(ii) e on a constant and the part-time job dummy"
   ]
  },
  {
   "cell_type": "code",
   "execution_count": 7,
   "metadata": {},
   "outputs": [
    {
     "data": {
      "text/html": [
       "<div>\n",
       "<style scoped>\n",
       "    .dataframe tbody tr th:only-of-type {\n",
       "        vertical-align: middle;\n",
       "    }\n",
       "\n",
       "    .dataframe tbody tr th {\n",
       "        vertical-align: top;\n",
       "    }\n",
       "\n",
       "    .dataframe thead th {\n",
       "        text-align: right;\n",
       "    }\n",
       "</style>\n",
       "<table border=\"1\" class=\"dataframe\">\n",
       "  <thead>\n",
       "    <tr style=\"text-align: right;\">\n",
       "      <th></th>\n",
       "      <th>Observation</th>\n",
       "      <th>Wage</th>\n",
       "      <th>LogWage</th>\n",
       "      <th>Female</th>\n",
       "      <th>Age</th>\n",
       "      <th>Educ</th>\n",
       "      <th>Parttime</th>\n",
       "      <th>e</th>\n",
       "    </tr>\n",
       "  </thead>\n",
       "  <tbody>\n",
       "    <tr>\n",
       "      <th>0</th>\n",
       "      <td>1</td>\n",
       "      <td>66</td>\n",
       "      <td>4.189655</td>\n",
       "      <td>0</td>\n",
       "      <td>49</td>\n",
       "      <td>1</td>\n",
       "      <td>1</td>\n",
       "      <td>-0.543990</td>\n",
       "    </tr>\n",
       "    <tr>\n",
       "      <th>1</th>\n",
       "      <td>2</td>\n",
       "      <td>34</td>\n",
       "      <td>3.526361</td>\n",
       "      <td>1</td>\n",
       "      <td>42</td>\n",
       "      <td>1</td>\n",
       "      <td>1</td>\n",
       "      <td>-0.956641</td>\n",
       "    </tr>\n",
       "    <tr>\n",
       "      <th>2</th>\n",
       "      <td>3</td>\n",
       "      <td>70</td>\n",
       "      <td>4.248495</td>\n",
       "      <td>1</td>\n",
       "      <td>42</td>\n",
       "      <td>1</td>\n",
       "      <td>1</td>\n",
       "      <td>-0.234507</td>\n",
       "    </tr>\n",
       "    <tr>\n",
       "      <th>3</th>\n",
       "      <td>4</td>\n",
       "      <td>47</td>\n",
       "      <td>3.850148</td>\n",
       "      <td>0</td>\n",
       "      <td>38</td>\n",
       "      <td>1</td>\n",
       "      <td>0</td>\n",
       "      <td>-0.883497</td>\n",
       "    </tr>\n",
       "    <tr>\n",
       "      <th>4</th>\n",
       "      <td>5</td>\n",
       "      <td>107</td>\n",
       "      <td>4.672829</td>\n",
       "      <td>1</td>\n",
       "      <td>54</td>\n",
       "      <td>1</td>\n",
       "      <td>1</td>\n",
       "      <td>0.189827</td>\n",
       "    </tr>\n",
       "    <tr>\n",
       "      <th>...</th>\n",
       "      <td>...</td>\n",
       "      <td>...</td>\n",
       "      <td>...</td>\n",
       "      <td>...</td>\n",
       "      <td>...</td>\n",
       "      <td>...</td>\n",
       "      <td>...</td>\n",
       "      <td>...</td>\n",
       "    </tr>\n",
       "    <tr>\n",
       "      <th>495</th>\n",
       "      <td>496</td>\n",
       "      <td>139</td>\n",
       "      <td>4.934474</td>\n",
       "      <td>0</td>\n",
       "      <td>32</td>\n",
       "      <td>4</td>\n",
       "      <td>0</td>\n",
       "      <td>0.200830</td>\n",
       "    </tr>\n",
       "    <tr>\n",
       "      <th>496</th>\n",
       "      <td>497</td>\n",
       "      <td>124</td>\n",
       "      <td>4.820282</td>\n",
       "      <td>0</td>\n",
       "      <td>33</td>\n",
       "      <td>4</td>\n",
       "      <td>0</td>\n",
       "      <td>0.086637</td>\n",
       "    </tr>\n",
       "    <tr>\n",
       "      <th>497</th>\n",
       "      <td>498</td>\n",
       "      <td>173</td>\n",
       "      <td>5.153292</td>\n",
       "      <td>0</td>\n",
       "      <td>38</td>\n",
       "      <td>4</td>\n",
       "      <td>0</td>\n",
       "      <td>0.419647</td>\n",
       "    </tr>\n",
       "    <tr>\n",
       "      <th>498</th>\n",
       "      <td>499</td>\n",
       "      <td>154</td>\n",
       "      <td>5.036953</td>\n",
       "      <td>0</td>\n",
       "      <td>27</td>\n",
       "      <td>4</td>\n",
       "      <td>0</td>\n",
       "      <td>0.303308</td>\n",
       "    </tr>\n",
       "    <tr>\n",
       "      <th>499</th>\n",
       "      <td>500</td>\n",
       "      <td>141</td>\n",
       "      <td>4.948760</td>\n",
       "      <td>0</td>\n",
       "      <td>29</td>\n",
       "      <td>4</td>\n",
       "      <td>0</td>\n",
       "      <td>0.215116</td>\n",
       "    </tr>\n",
       "  </tbody>\n",
       "</table>\n",
       "<p>500 rows × 8 columns</p>\n",
       "</div>"
      ],
      "text/plain": [
       "     Observation  Wage   LogWage  Female  Age  Educ  Parttime         e\n",
       "0              1    66  4.189655       0   49     1         1 -0.543990\n",
       "1              2    34  3.526361       1   42     1         1 -0.956641\n",
       "2              3    70  4.248495       1   42     1         1 -0.234507\n",
       "3              4    47  3.850148       0   38     1         0 -0.883497\n",
       "4              5   107  4.672829       1   54     1         1  0.189827\n",
       "..           ...   ...       ...     ...  ...   ...       ...       ...\n",
       "495          496   139  4.934474       0   32     4         0  0.200830\n",
       "496          497   124  4.820282       0   33     4         0  0.086637\n",
       "497          498   173  5.153292       0   38     4         0  0.419647\n",
       "498          499   154  5.036953       0   27     4         0  0.303308\n",
       "499          500   141  4.948760       0   29     4         0  0.215116\n",
       "\n",
       "[500 rows x 8 columns]"
      ]
     },
     "execution_count": 7,
     "metadata": {},
     "output_type": "execute_result"
    }
   ],
   "source": [
    "data['e'] = reg1.resid\n",
    "data"
   ]
  },
  {
   "cell_type": "code",
   "execution_count": 8,
   "metadata": {},
   "outputs": [
    {
     "data": {
      "text/plain": [
       "-5.901057420487632e-15"
      ]
     },
     "execution_count": 8,
     "metadata": {},
     "output_type": "execute_result"
    }
   ],
   "source": [
    "data['e'].mean()"
   ]
  },
  {
   "cell_type": "code",
   "execution_count": 9,
   "metadata": {},
   "outputs": [
    {
     "name": "stdout",
     "output_type": "stream",
     "text": [
      "                            OLS Regression Results                            \n",
      "==============================================================================\n",
      "Dep. Variable:                      e   R-squared:                       0.284\n",
      "Model:                            OLS   Adj. R-squared:                  0.282\n",
      "Method:                 Least Squares   F-statistic:                     197.4\n",
      "Date:                Tue, 07 Feb 2023   Prob (F-statistic):           5.19e-38\n",
      "Time:                        02:28:37   Log-Likelihood:                -206.19\n",
      "No. Observations:                 500   AIC:                             416.4\n",
      "Df Residuals:                     498   BIC:                             424.8\n",
      "Df Model:                           1                                         \n",
      "Covariance Type:            nonrobust                                         \n",
      "==============================================================================\n",
      "                 coef    std err          t      P>|t|      [0.025      0.975]\n",
      "------------------------------------------------------------------------------\n",
      "Intercept     -0.4526      0.036    -12.525      0.000      -0.524      -0.382\n",
      "Educ           0.2178      0.016     14.051      0.000       0.187       0.248\n",
      "==============================================================================\n",
      "Omnibus:                        4.162   Durbin-Watson:                   1.929\n",
      "Prob(Omnibus):                  0.125   Jarque-Bera (JB):                4.201\n",
      "Skew:                           0.201   Prob(JB):                        0.122\n",
      "Kurtosis:                       2.799   Cond. No.                         5.92\n",
      "==============================================================================\n",
      "\n",
      "Notes:\n",
      "[1] Standard Errors assume that the covariance matrix of the errors is correctly specified.\n"
     ]
    }
   ],
   "source": [
    "regb1 = ols('e ~  Educ',data=data).fit()\n",
    "print(regb1.summary())"
   ]
  },
  {
   "cell_type": "code",
   "execution_count": 10,
   "metadata": {},
   "outputs": [
    {
     "name": "stdout",
     "output_type": "stream",
     "text": [
      "b = 0.22\n",
      "a = -0.45\n",
      "rsq = 0.28\n",
      "seb = 0.016\n",
      "pvalue = 0.0\n"
     ]
    }
   ],
   "source": [
    "sentence= '{} = {}'\n",
    "b,a,r_value,p_value,std_err = stats.linregress(x=data.Educ,y=data.e)\n",
    "print(sentence.format('b',b.round(2)))\n",
    "print(sentence.format('a',a.round(2)))\n",
    "print(sentence.format('rsq',(r_value**2).round(2)))\n",
    "print(sentence.format('seb',std_err.round(3)))\n",
    "print(sentence.format('pvalue',p_value.round(3)))"
   ]
  },
  {
   "cell_type": "code",
   "execution_count": 11,
   "metadata": {},
   "outputs": [
    {
     "name": "stdout",
     "output_type": "stream",
     "text": [
      "e = 0.22Educ -0.45 + Resid\n"
     ]
    }
   ],
   "source": [
    "print('{} = {}Educ {} + {}'.format('e',b.round(2),a.round(2),'Resid'))"
   ]
  },
  {
   "cell_type": "code",
   "execution_count": 12,
   "metadata": {},
   "outputs": [
    {
     "name": "stdout",
     "output_type": "stream",
     "text": [
      "                            OLS Regression Results                            \n",
      "==============================================================================\n",
      "Dep. Variable:                      e   R-squared:                       0.011\n",
      "Model:                            OLS   Adj. R-squared:                  0.009\n",
      "Method:                 Least Squares   F-statistic:                     5.390\n",
      "Date:                Tue, 07 Feb 2023   Prob (F-statistic):             0.0207\n",
      "Time:                        02:28:37   Log-Likelihood:                -286.97\n",
      "No. Observations:                 500   AIC:                             577.9\n",
      "Df Residuals:                     498   BIC:                             586.4\n",
      "Df Model:                           1                                         \n",
      "Covariance Type:            nonrobust                                         \n",
      "==============================================================================\n",
      "                 coef    std err          t      P>|t|      [0.025      0.975]\n",
      "------------------------------------------------------------------------------\n",
      "Intercept     -0.0284      0.023     -1.246      0.213      -0.073       0.016\n",
      "Parttime       0.0987      0.043      2.322      0.021       0.015       0.182\n",
      "==============================================================================\n",
      "Omnibus:                        7.488   Durbin-Watson:                   1.376\n",
      "Prob(Omnibus):                  0.024   Jarque-Bera (JB):                6.638\n",
      "Skew:                           0.218   Prob(JB):                       0.0362\n",
      "Kurtosis:                       2.640   Cond. No.                         2.43\n",
      "==============================================================================\n",
      "\n",
      "Notes:\n",
      "[1] Standard Errors assume that the covariance matrix of the errors is correctly specified.\n"
     ]
    }
   ],
   "source": [
    "regb2 = ols('e ~ Parttime',data=data).fit()\n",
    "print(regb2.summary())"
   ]
  },
  {
   "cell_type": "code",
   "execution_count": 13,
   "metadata": {},
   "outputs": [
    {
     "name": "stdout",
     "output_type": "stream",
     "text": [
      "b = 0.1\n",
      "a = -0.03\n",
      "rsq = 0.011\n",
      "seb = 0.043\n",
      "pvalue = 0.021\n"
     ]
    }
   ],
   "source": [
    "sentence= '{} = {}'\n",
    "b,a,r_value,p_value,std_err = stats.linregress(x=data.Parttime,y=data.e)\n",
    "print(sentence.format('b',b.round(2)))\n",
    "print(sentence.format('a',a.round(2)))\n",
    "print(sentence.format('rsq',(r_value**2).round(3)))\n",
    "print(sentence.format('seb',std_err.round(3)))\n",
    "print(sentence.format('pvalue',p_value.round(3)))"
   ]
  },
  {
   "cell_type": "code",
   "execution_count": 14,
   "metadata": {},
   "outputs": [
    {
     "name": "stdout",
     "output_type": "stream",
     "text": [
      "e = 0.1Parttime -0.03 + Resid\n"
     ]
    }
   ],
   "source": [
    "print('{} = {}Parttime {} + {}'.format('e',b.round(2),a.round(2),'Resid'))"
   ]
  },
  {
   "cell_type": "markdown",
   "metadata": {},
   "source": [
    "**b-i) educ + 1 -> +22% wage not explained by gender, as b in regb1 = 0.22 (positive)**\n",
    "\n",
    "**b-ii) parttime -> +10% wage not explained by gender, as b in regb2 = 0.10 (positive).** This model suggests us that parttime jobs lead to higher salaries, which is contradictory. It may be due to multicolinearity in the variable \"Parttime\", as it could have correlation with other factors"
   ]
  },
  {
   "cell_type": "code",
   "execution_count": 15,
   "metadata": {},
   "outputs": [],
   "source": [
    "from stargazer.stargazer import Stargazer\n",
    "from IPython.core.display import HTML"
   ]
  },
  {
   "cell_type": "code",
   "execution_count": 16,
   "metadata": {},
   "outputs": [
    {
     "data": {
      "text/html": [
       "<table style=\"text-align:center\"><tr><td colspan=\"3\" style=\"border-bottom: 1px solid black\"></td></tr><tr><td style=\"text-align:left\"></td><td colspan=\"2\"><em>Dependent variable:e</em></td></tr><tr><td style=\"text-align:left\"></td><tr><td style=\"text-align:left\"></td><td>(1)</td><td>(2)</td></tr><tr><td colspan=\"3\" style=\"border-bottom: 1px solid black\"></td></tr><tr><td style=\"text-align:left\">Educ</td><td>0.218<sup>***</sup></td><td></td></tr><tr><td style=\"text-align:left\"></td><td>(0.016)</td><td></td></tr><tr><td style=\"text-align:left\">Intercept</td><td>-0.453<sup>***</sup></td><td>-0.028<sup></sup></td></tr><tr><td style=\"text-align:left\"></td><td>(0.036)</td><td>(0.023)</td></tr><tr><td style=\"text-align:left\">Parttime</td><td></td><td>0.099<sup>**</sup></td></tr><tr><td style=\"text-align:left\"></td><td></td><td>(0.043)</td></tr><td colspan=\"3\" style=\"border-bottom: 1px solid black\"></td></tr><tr><td style=\"text-align: left\">Observations</td><td>500</td><td>500</td></tr><tr><td style=\"text-align: left\">R<sup>2</sup></td><td>0.284</td><td>0.011</td></tr><tr><td style=\"text-align: left\">Adjusted R<sup>2</sup></td><td>0.282</td><td>0.009</td></tr><tr><td style=\"text-align: left\">Residual Std. Error</td><td>0.366 (df=498)</td><td>0.430 (df=498)</td></tr><tr><td style=\"text-align: left\">F Statistic</td><td>197.417<sup>***</sup> (df=1; 498)</td><td>5.390<sup>**</sup> (df=1; 498)</td></tr><tr><td colspan=\"3\" style=\"border-bottom: 1px solid black\"></td></tr><tr><td style=\"text-align: left\">Note:</td>\n",
       " <td colspan=\"2\" style=\"text-align: right\">\n",
       "  <sup>*</sup>p&lt;0.1;\n",
       "  <sup>**</sup>p&lt;0.05;\n",
       "  <sup>***</sup>p&lt;0.01\n",
       " </td></tr></table>"
      ],
      "text/plain": [
       "<stargazer.stargazer.Stargazer at 0x26c8f8ac190>"
      ]
     },
     "execution_count": 16,
     "metadata": {},
     "output_type": "execute_result"
    }
   ],
   "source": [
    "stargazer = Stargazer([regb1,regb2])\n",
    "stargazer"
   ]
  },
  {
   "cell_type": "code",
   "execution_count": 17,
   "metadata": {},
   "outputs": [
    {
     "name": "stdout",
     "output_type": "stream",
     "text": [
      "                            OLS Regression Results                            \n",
      "==============================================================================\n",
      "Dep. Variable:                LogWage   R-squared:                       0.358\n",
      "Model:                            OLS   Adj. R-squared:                  0.354\n",
      "Method:                 Least Squares   F-statistic:                     101.5\n",
      "Date:                Tue, 07 Feb 2023   Prob (F-statistic):           2.94e-51\n",
      "Time:                        02:28:37   Log-Likelihood:                -197.60\n",
      "No. Observations:                 500   AIC:                             403.2\n",
      "Df Residuals:                     496   BIC:                             420.1\n",
      "Df Model:                           3                                         \n",
      "Covariance Type:                  HC3                                         \n",
      "==============================================================================\n",
      "                 coef    std err          z      P>|z|      [0.025      0.975]\n",
      "------------------------------------------------------------------------------\n",
      "Intercept      4.1988      0.041    102.573      0.000       4.119       4.279\n",
      "Female        -0.1614      0.037     -4.318      0.000      -0.235      -0.088\n",
      "Parttime       0.0940      0.037      2.568      0.010       0.022       0.166\n",
      "Educ           0.2286      0.015     15.139      0.000       0.199       0.258\n",
      "==============================================================================\n",
      "Omnibus:                        2.475   Durbin-Watson:                   1.940\n",
      "Prob(Omnibus):                  0.290   Jarque-Bera (JB):                2.534\n",
      "Skew:                           0.168   Prob(JB):                        0.282\n",
      "Kurtosis:                       2.904   Cond. No.                         7.51\n",
      "==============================================================================\n",
      "\n",
      "Notes:\n",
      "[1] Standard Errors are heteroscedasticity robust (HC3)\n"
     ]
    }
   ],
   "source": [
    "reg3 = ols('LogWage ~ Female + Parttime + Educ', data=data).fit(cov_type='HC3')\n",
    "print(reg3.summary())"
   ]
  },
  {
   "cell_type": "markdown",
   "metadata": {},
   "source": [
    "a = 4.1988\n",
    "\n",
    "*LogWage = 4.20 - 0.161Female + 0.094Parttime + 0.228Educ + e*"
   ]
  },
  {
   "cell_type": "code",
   "execution_count": 18,
   "metadata": {},
   "outputs": [
    {
     "data": {
      "text/plain": [
       "-1.2789769243681803e-15"
      ]
     },
     "execution_count": 18,
     "metadata": {},
     "output_type": "execute_result"
    }
   ],
   "source": [
    "emulti = reg3.resid\n",
    "emulti.mean()"
   ]
  },
  {
   "cell_type": "markdown",
   "metadata": {},
   "source": [
    "### Training Exercise 2.2."
   ]
  },
  {
   "cell_type": "markdown",
   "metadata": {},
   "source": [
    "**(a) The wage equation presented at the start of Lecture 2.2 contains four explanatory factors (apart from the\n",
    "constant term). Formulate the null hypothesis that none of these four factors has effect on wage in the form\n",
    "R = r, that is, determine R and r.**"
   ]
  },
  {
   "cell_type": "markdown",
   "metadata": {},
   "source": [
    "β1 + β2Femalei + β3Agei + β4Educi + β5Parttimei + εi\n",
    "\n",
    "β2=0, β3=0, β4=0, β5=0\n",
    "\n",
    "r=0"
   ]
  },
  {
   "cell_type": "code",
   "execution_count": 19,
   "metadata": {},
   "outputs": [
    {
     "name": "stdout",
     "output_type": "stream",
     "text": [
      "                            OLS Regression Results                            \n",
      "==============================================================================\n",
      "Dep. Variable:                LogWage   R-squared:                       0.704\n",
      "Model:                            OLS   Adj. R-squared:                  0.702\n",
      "Method:                 Least Squares   F-statistic:                     294.3\n",
      "Date:                Tue, 07 Feb 2023   Prob (F-statistic):          2.50e-129\n",
      "Time:                        02:28:37   Log-Likelihood:                -4.1913\n",
      "No. Observations:                 500   AIC:                             18.38\n",
      "Df Residuals:                     495   BIC:                             39.46\n",
      "Df Model:                           4                                         \n",
      "Covariance Type:            nonrobust                                         \n",
      "==============================================================================\n",
      "                 coef    std err          t      P>|t|      [0.025      0.975]\n",
      "------------------------------------------------------------------------------\n",
      "Intercept      3.0527      0.055     55.168      0.000       2.944       3.161\n",
      "Female        -0.0411      0.025     -1.663      0.097      -0.090       0.007\n",
      "Age            0.0306      0.001     24.041      0.000       0.028       0.033\n",
      "Parttime      -0.3654      0.032    -11.576      0.000      -0.427      -0.303\n",
      "Educ           0.2332      0.011     21.874      0.000       0.212       0.254\n",
      "==============================================================================\n",
      "Omnibus:                        0.975   Durbin-Watson:                   1.874\n",
      "Prob(Omnibus):                  0.614   Jarque-Bera (JB):                0.787\n",
      "Skew:                           0.001   Prob(JB):                        0.675\n",
      "Kurtosis:                       3.194   Cond. No.                         223.\n",
      "==============================================================================\n",
      "\n",
      "Notes:\n",
      "[1] Standard Errors assume that the covariance matrix of the errors is correctly specified.\n"
     ]
    }
   ],
   "source": [
    "reg22 = ols('LogWage ~ Female + Age + Parttime + Educ',data=data).fit()\n",
    "print(reg22.summary())"
   ]
  },
  {
   "cell_type": "code",
   "execution_count": 20,
   "metadata": {},
   "outputs": [
    {
     "data": {
      "text/html": [
       "<div>\n",
       "<style scoped>\n",
       "    .dataframe tbody tr th:only-of-type {\n",
       "        vertical-align: middle;\n",
       "    }\n",
       "\n",
       "    .dataframe tbody tr th {\n",
       "        vertical-align: top;\n",
       "    }\n",
       "\n",
       "    .dataframe thead th {\n",
       "        text-align: right;\n",
       "    }\n",
       "</style>\n",
       "<table border=\"1\" class=\"dataframe\">\n",
       "  <thead>\n",
       "    <tr style=\"text-align: right;\">\n",
       "      <th></th>\n",
       "      <th>Observation</th>\n",
       "      <th>Wage</th>\n",
       "      <th>LogWage</th>\n",
       "      <th>Female</th>\n",
       "      <th>Age</th>\n",
       "      <th>Educ</th>\n",
       "      <th>Parttime</th>\n",
       "      <th>e</th>\n",
       "      <th>eimulti</th>\n",
       "    </tr>\n",
       "  </thead>\n",
       "  <tbody>\n",
       "    <tr>\n",
       "      <th>0</th>\n",
       "      <td>1</td>\n",
       "      <td>66</td>\n",
       "      <td>4.189655</td>\n",
       "      <td>0</td>\n",
       "      <td>49</td>\n",
       "      <td>1</td>\n",
       "      <td>1</td>\n",
       "      <td>-0.543990</td>\n",
       "      <td>-0.230462</td>\n",
       "    </tr>\n",
       "    <tr>\n",
       "      <th>1</th>\n",
       "      <td>2</td>\n",
       "      <td>34</td>\n",
       "      <td>3.526361</td>\n",
       "      <td>1</td>\n",
       "      <td>42</td>\n",
       "      <td>1</td>\n",
       "      <td>1</td>\n",
       "      <td>-0.956641</td>\n",
       "      <td>-0.638412</td>\n",
       "    </tr>\n",
       "    <tr>\n",
       "      <th>2</th>\n",
       "      <td>3</td>\n",
       "      <td>70</td>\n",
       "      <td>4.248495</td>\n",
       "      <td>1</td>\n",
       "      <td>42</td>\n",
       "      <td>1</td>\n",
       "      <td>1</td>\n",
       "      <td>-0.234507</td>\n",
       "      <td>0.083723</td>\n",
       "    </tr>\n",
       "    <tr>\n",
       "      <th>3</th>\n",
       "      <td>4</td>\n",
       "      <td>47</td>\n",
       "      <td>3.850148</td>\n",
       "      <td>0</td>\n",
       "      <td>38</td>\n",
       "      <td>1</td>\n",
       "      <td>0</td>\n",
       "      <td>-0.883497</td>\n",
       "      <td>-0.598750</td>\n",
       "    </tr>\n",
       "    <tr>\n",
       "      <th>4</th>\n",
       "      <td>5</td>\n",
       "      <td>107</td>\n",
       "      <td>4.672829</td>\n",
       "      <td>1</td>\n",
       "      <td>54</td>\n",
       "      <td>1</td>\n",
       "      <td>1</td>\n",
       "      <td>0.189827</td>\n",
       "      <td>0.140782</td>\n",
       "    </tr>\n",
       "    <tr>\n",
       "      <th>...</th>\n",
       "      <td>...</td>\n",
       "      <td>...</td>\n",
       "      <td>...</td>\n",
       "      <td>...</td>\n",
       "      <td>...</td>\n",
       "      <td>...</td>\n",
       "      <td>...</td>\n",
       "      <td>...</td>\n",
       "      <td>...</td>\n",
       "    </tr>\n",
       "    <tr>\n",
       "      <th>495</th>\n",
       "      <td>496</td>\n",
       "      <td>139</td>\n",
       "      <td>4.934474</td>\n",
       "      <td>0</td>\n",
       "      <td>32</td>\n",
       "      <td>4</td>\n",
       "      <td>0</td>\n",
       "      <td>0.200830</td>\n",
       "      <td>-0.030322</td>\n",
       "    </tr>\n",
       "    <tr>\n",
       "      <th>496</th>\n",
       "      <td>497</td>\n",
       "      <td>124</td>\n",
       "      <td>4.820282</td>\n",
       "      <td>0</td>\n",
       "      <td>33</td>\n",
       "      <td>4</td>\n",
       "      <td>0</td>\n",
       "      <td>0.086637</td>\n",
       "      <td>-0.175120</td>\n",
       "    </tr>\n",
       "    <tr>\n",
       "      <th>497</th>\n",
       "      <td>498</td>\n",
       "      <td>173</td>\n",
       "      <td>5.153292</td>\n",
       "      <td>0</td>\n",
       "      <td>38</td>\n",
       "      <td>4</td>\n",
       "      <td>0</td>\n",
       "      <td>0.419647</td>\n",
       "      <td>0.004859</td>\n",
       "    </tr>\n",
       "    <tr>\n",
       "      <th>498</th>\n",
       "      <td>499</td>\n",
       "      <td>154</td>\n",
       "      <td>5.036953</td>\n",
       "      <td>0</td>\n",
       "      <td>27</td>\n",
       "      <td>4</td>\n",
       "      <td>0</td>\n",
       "      <td>0.303308</td>\n",
       "      <td>0.225188</td>\n",
       "    </tr>\n",
       "    <tr>\n",
       "      <th>499</th>\n",
       "      <td>500</td>\n",
       "      <td>141</td>\n",
       "      <td>4.948760</td>\n",
       "      <td>0</td>\n",
       "      <td>29</td>\n",
       "      <td>4</td>\n",
       "      <td>0</td>\n",
       "      <td>0.215116</td>\n",
       "      <td>0.075783</td>\n",
       "    </tr>\n",
       "  </tbody>\n",
       "</table>\n",
       "<p>500 rows × 9 columns</p>\n",
       "</div>"
      ],
      "text/plain": [
       "     Observation  Wage   LogWage  Female  Age  Educ  Parttime         e  \\\n",
       "0              1    66  4.189655       0   49     1         1 -0.543990   \n",
       "1              2    34  3.526361       1   42     1         1 -0.956641   \n",
       "2              3    70  4.248495       1   42     1         1 -0.234507   \n",
       "3              4    47  3.850148       0   38     1         0 -0.883497   \n",
       "4              5   107  4.672829       1   54     1         1  0.189827   \n",
       "..           ...   ...       ...     ...  ...   ...       ...       ...   \n",
       "495          496   139  4.934474       0   32     4         0  0.200830   \n",
       "496          497   124  4.820282       0   33     4         0  0.086637   \n",
       "497          498   173  5.153292       0   38     4         0  0.419647   \n",
       "498          499   154  5.036953       0   27     4         0  0.303308   \n",
       "499          500   141  4.948760       0   29     4         0  0.215116   \n",
       "\n",
       "      eimulti  \n",
       "0   -0.230462  \n",
       "1   -0.638412  \n",
       "2    0.083723  \n",
       "3   -0.598750  \n",
       "4    0.140782  \n",
       "..        ...  \n",
       "495 -0.030322  \n",
       "496 -0.175120  \n",
       "497  0.004859  \n",
       "498  0.225188  \n",
       "499  0.075783  \n",
       "\n",
       "[500 rows x 9 columns]"
      ]
     },
     "execution_count": 20,
     "metadata": {},
     "output_type": "execute_result"
    }
   ],
   "source": [
    "emulti = reg22.resid\n",
    "data['eimulti'] = emulti\n",
    "data"
   ]
  },
  {
   "cell_type": "code",
   "execution_count": 21,
   "metadata": {},
   "outputs": [],
   "source": [
    "import math"
   ]
  },
  {
   "cell_type": "code",
   "execution_count": 22,
   "metadata": {},
   "outputs": [],
   "source": [
    "RSQ = 0.704\n",
    "b4 = 0.2332"
   ]
  },
  {
   "cell_type": "markdown",
   "metadata": {},
   "source": [
    "*The marginal effect of a single increase in education level is 0.2332*"
   ]
  },
  {
   "cell_type": "markdown",
   "metadata": {},
   "source": [
    "**b) Extend the wage equation presented at the start of Lecture 2.2 by allowing for education effects that depend\n",
    "on the education level.\n",
    "Hint: Use dummy variables for education levels 2, 3, and 4.**"
   ]
  },
  {
   "cell_type": "code",
   "execution_count": 23,
   "metadata": {},
   "outputs": [
    {
     "data": {
      "text/html": [
       "<div>\n",
       "<style scoped>\n",
       "    .dataframe tbody tr th:only-of-type {\n",
       "        vertical-align: middle;\n",
       "    }\n",
       "\n",
       "    .dataframe tbody tr th {\n",
       "        vertical-align: top;\n",
       "    }\n",
       "\n",
       "    .dataframe thead th {\n",
       "        text-align: right;\n",
       "    }\n",
       "</style>\n",
       "<table border=\"1\" class=\"dataframe\">\n",
       "  <thead>\n",
       "    <tr style=\"text-align: right;\">\n",
       "      <th></th>\n",
       "      <th>Observation</th>\n",
       "      <th>Wage</th>\n",
       "      <th>LogWage</th>\n",
       "      <th>Female</th>\n",
       "      <th>Age</th>\n",
       "      <th>Educ</th>\n",
       "      <th>Parttime</th>\n",
       "      <th>e</th>\n",
       "      <th>eimulti</th>\n",
       "      <th>DF2</th>\n",
       "      <th>DF3</th>\n",
       "      <th>DF4</th>\n",
       "    </tr>\n",
       "  </thead>\n",
       "  <tbody>\n",
       "    <tr>\n",
       "      <th>0</th>\n",
       "      <td>1</td>\n",
       "      <td>66</td>\n",
       "      <td>4.189655</td>\n",
       "      <td>0</td>\n",
       "      <td>49</td>\n",
       "      <td>1</td>\n",
       "      <td>1</td>\n",
       "      <td>-0.543990</td>\n",
       "      <td>-0.230462</td>\n",
       "      <td>0</td>\n",
       "      <td>0</td>\n",
       "      <td>0</td>\n",
       "    </tr>\n",
       "    <tr>\n",
       "      <th>1</th>\n",
       "      <td>2</td>\n",
       "      <td>34</td>\n",
       "      <td>3.526361</td>\n",
       "      <td>1</td>\n",
       "      <td>42</td>\n",
       "      <td>1</td>\n",
       "      <td>1</td>\n",
       "      <td>-0.956641</td>\n",
       "      <td>-0.638412</td>\n",
       "      <td>0</td>\n",
       "      <td>0</td>\n",
       "      <td>0</td>\n",
       "    </tr>\n",
       "    <tr>\n",
       "      <th>2</th>\n",
       "      <td>3</td>\n",
       "      <td>70</td>\n",
       "      <td>4.248495</td>\n",
       "      <td>1</td>\n",
       "      <td>42</td>\n",
       "      <td>1</td>\n",
       "      <td>1</td>\n",
       "      <td>-0.234507</td>\n",
       "      <td>0.083723</td>\n",
       "      <td>0</td>\n",
       "      <td>0</td>\n",
       "      <td>0</td>\n",
       "    </tr>\n",
       "    <tr>\n",
       "      <th>3</th>\n",
       "      <td>4</td>\n",
       "      <td>47</td>\n",
       "      <td>3.850148</td>\n",
       "      <td>0</td>\n",
       "      <td>38</td>\n",
       "      <td>1</td>\n",
       "      <td>0</td>\n",
       "      <td>-0.883497</td>\n",
       "      <td>-0.598750</td>\n",
       "      <td>0</td>\n",
       "      <td>0</td>\n",
       "      <td>0</td>\n",
       "    </tr>\n",
       "    <tr>\n",
       "      <th>4</th>\n",
       "      <td>5</td>\n",
       "      <td>107</td>\n",
       "      <td>4.672829</td>\n",
       "      <td>1</td>\n",
       "      <td>54</td>\n",
       "      <td>1</td>\n",
       "      <td>1</td>\n",
       "      <td>0.189827</td>\n",
       "      <td>0.140782</td>\n",
       "      <td>0</td>\n",
       "      <td>0</td>\n",
       "      <td>0</td>\n",
       "    </tr>\n",
       "    <tr>\n",
       "      <th>...</th>\n",
       "      <td>...</td>\n",
       "      <td>...</td>\n",
       "      <td>...</td>\n",
       "      <td>...</td>\n",
       "      <td>...</td>\n",
       "      <td>...</td>\n",
       "      <td>...</td>\n",
       "      <td>...</td>\n",
       "      <td>...</td>\n",
       "      <td>...</td>\n",
       "      <td>...</td>\n",
       "      <td>...</td>\n",
       "    </tr>\n",
       "    <tr>\n",
       "      <th>495</th>\n",
       "      <td>496</td>\n",
       "      <td>139</td>\n",
       "      <td>4.934474</td>\n",
       "      <td>0</td>\n",
       "      <td>32</td>\n",
       "      <td>4</td>\n",
       "      <td>0</td>\n",
       "      <td>0.200830</td>\n",
       "      <td>-0.030322</td>\n",
       "      <td>0</td>\n",
       "      <td>0</td>\n",
       "      <td>1</td>\n",
       "    </tr>\n",
       "    <tr>\n",
       "      <th>496</th>\n",
       "      <td>497</td>\n",
       "      <td>124</td>\n",
       "      <td>4.820282</td>\n",
       "      <td>0</td>\n",
       "      <td>33</td>\n",
       "      <td>4</td>\n",
       "      <td>0</td>\n",
       "      <td>0.086637</td>\n",
       "      <td>-0.175120</td>\n",
       "      <td>0</td>\n",
       "      <td>0</td>\n",
       "      <td>1</td>\n",
       "    </tr>\n",
       "    <tr>\n",
       "      <th>497</th>\n",
       "      <td>498</td>\n",
       "      <td>173</td>\n",
       "      <td>5.153292</td>\n",
       "      <td>0</td>\n",
       "      <td>38</td>\n",
       "      <td>4</td>\n",
       "      <td>0</td>\n",
       "      <td>0.419647</td>\n",
       "      <td>0.004859</td>\n",
       "      <td>0</td>\n",
       "      <td>0</td>\n",
       "      <td>1</td>\n",
       "    </tr>\n",
       "    <tr>\n",
       "      <th>498</th>\n",
       "      <td>499</td>\n",
       "      <td>154</td>\n",
       "      <td>5.036953</td>\n",
       "      <td>0</td>\n",
       "      <td>27</td>\n",
       "      <td>4</td>\n",
       "      <td>0</td>\n",
       "      <td>0.303308</td>\n",
       "      <td>0.225188</td>\n",
       "      <td>0</td>\n",
       "      <td>0</td>\n",
       "      <td>1</td>\n",
       "    </tr>\n",
       "    <tr>\n",
       "      <th>499</th>\n",
       "      <td>500</td>\n",
       "      <td>141</td>\n",
       "      <td>4.948760</td>\n",
       "      <td>0</td>\n",
       "      <td>29</td>\n",
       "      <td>4</td>\n",
       "      <td>0</td>\n",
       "      <td>0.215116</td>\n",
       "      <td>0.075783</td>\n",
       "      <td>0</td>\n",
       "      <td>0</td>\n",
       "      <td>1</td>\n",
       "    </tr>\n",
       "  </tbody>\n",
       "</table>\n",
       "<p>500 rows × 12 columns</p>\n",
       "</div>"
      ],
      "text/plain": [
       "     Observation  Wage   LogWage  Female  Age  Educ  Parttime         e  \\\n",
       "0              1    66  4.189655       0   49     1         1 -0.543990   \n",
       "1              2    34  3.526361       1   42     1         1 -0.956641   \n",
       "2              3    70  4.248495       1   42     1         1 -0.234507   \n",
       "3              4    47  3.850148       0   38     1         0 -0.883497   \n",
       "4              5   107  4.672829       1   54     1         1  0.189827   \n",
       "..           ...   ...       ...     ...  ...   ...       ...       ...   \n",
       "495          496   139  4.934474       0   32     4         0  0.200830   \n",
       "496          497   124  4.820282       0   33     4         0  0.086637   \n",
       "497          498   173  5.153292       0   38     4         0  0.419647   \n",
       "498          499   154  5.036953       0   27     4         0  0.303308   \n",
       "499          500   141  4.948760       0   29     4         0  0.215116   \n",
       "\n",
       "      eimulti  DF2  DF3  DF4  \n",
       "0   -0.230462    0    0    0  \n",
       "1   -0.638412    0    0    0  \n",
       "2    0.083723    0    0    0  \n",
       "3   -0.598750    0    0    0  \n",
       "4    0.140782    0    0    0  \n",
       "..        ...  ...  ...  ...  \n",
       "495 -0.030322    0    0    1  \n",
       "496 -0.175120    0    0    1  \n",
       "497  0.004859    0    0    1  \n",
       "498  0.225188    0    0    1  \n",
       "499  0.075783    0    0    1  \n",
       "\n",
       "[500 rows x 12 columns]"
      ]
     },
     "execution_count": 23,
     "metadata": {},
     "output_type": "execute_result"
    }
   ],
   "source": [
    "data['DF2'] = np.where(data['Educ']==2, 1, 0) #creando series binomiales\n",
    "data['DF3'] = np.where(data['Educ']==3,1,0)\n",
    "data['DF4'] = np.where(data['Educ']==4,1,0)\n",
    "data"
   ]
  },
  {
   "cell_type": "markdown",
   "metadata": {},
   "source": [
    "*Analyzing the **DETAILED** marginal effect of each level of higher education on wages*"
   ]
  },
  {
   "cell_type": "code",
   "execution_count": 24,
   "metadata": {},
   "outputs": [
    {
     "name": "stdout",
     "output_type": "stream",
     "text": [
      "                            OLS Regression Results                            \n",
      "==============================================================================\n",
      "Dep. Variable:                LogWage   R-squared:                       0.716\n",
      "Model:                            OLS   Adj. R-squared:                  0.713\n",
      "Method:                 Least Squares   F-statistic:                     207.3\n",
      "Date:                Tue, 07 Feb 2023   Prob (F-statistic):          2.46e-131\n",
      "Time:                        02:28:37   Log-Likelihood:                 6.2950\n",
      "No. Observations:                 500   AIC:                             1.410\n",
      "Df Residuals:                     493   BIC:                             30.91\n",
      "Df Model:                           6                                         \n",
      "Covariance Type:            nonrobust                                         \n",
      "==============================================================================\n",
      "                 coef    std err          t      P>|t|      [0.025      0.975]\n",
      "------------------------------------------------------------------------------\n",
      "Intercept      3.3180      0.051     64.554      0.000       3.217       3.419\n",
      "Female        -0.0309      0.024     -1.267      0.206      -0.079       0.017\n",
      "Age            0.0304      0.001     24.269      0.000       0.028       0.033\n",
      "Parttime      -0.3659      0.031    -11.813      0.000      -0.427      -0.305\n",
      "DF2            0.1705      0.027      6.308      0.000       0.117       0.224\n",
      "DF3            0.3805      0.029     12.996      0.000       0.323       0.438\n",
      "DF4            0.7655      0.035     21.610      0.000       0.696       0.835\n",
      "==============================================================================\n",
      "Omnibus:                        1.174   Durbin-Watson:                   1.953\n",
      "Prob(Omnibus):                  0.556   Jarque-Bera (JB):                1.001\n",
      "Skew:                           0.001   Prob(JB):                        0.606\n",
      "Kurtosis:                       3.219   Cond. No.                         221.\n",
      "==============================================================================\n",
      "\n",
      "Notes:\n",
      "[1] Standard Errors assume that the covariance matrix of the errors is correctly specified.\n"
     ]
    }
   ],
   "source": [
    "reg22b = ols('LogWage ~ Female + Age + Parttime + DF2 + DF3 + DF4',data=data).fit()\n",
    "print(reg22b.summary())"
   ]
  },
  {
   "cell_type": "code",
   "execution_count": 25,
   "metadata": {},
   "outputs": [
    {
     "name": "stdout",
     "output_type": "stream",
     "text": [
      "0.17\n",
      "0.38\n",
      "0.766\n"
     ]
    }
   ],
   "source": [
    "bDF2=0.17\n",
    "bDF3=0.38\n",
    "bDF4=0.766\n",
    "#From level 1 to level 2\n",
    "print(bDF2)\n",
    "#From level 1 to level 3\n",
    "print(bDF3)\n",
    "#From level 1 to level 4\n",
    "print(bDF4)"
   ]
  },
  {
   "cell_type": "code",
   "execution_count": 26,
   "metadata": {},
   "outputs": [
    {
     "name": "stdout",
     "output_type": "stream",
     "text": [
      "0.17\n",
      "0.21\n",
      "0.386\n"
     ]
    }
   ],
   "source": [
    "#From level 1 to level 2\n",
    "print(bDF2)\n",
    "#from level 2 to level 3\n",
    "print(bDF3-bDF2)\n",
    "#from level 3 to level 4\n",
    "print(bDF4-bDF3)"
   ]
  },
  {
   "cell_type": "code",
   "execution_count": 27,
   "metadata": {
    "scrolled": true
   },
   "outputs": [
    {
     "name": "stdout",
     "output_type": "stream",
     "text": [
      "0.596\n"
     ]
    }
   ],
   "source": [
    "#from level 2 to level 4\n",
    "print(bDF4-bDF2)"
   ]
  },
  {
   "cell_type": "markdown",
   "metadata": {},
   "source": [
    "*The effect gets higher for each marginal increase in the education level*"
   ]
  },
  {
   "cell_type": "markdown",
   "metadata": {},
   "source": [
    "**c)The model of part (b) is more general than the original wage equation. The original model can be obtained\n",
    "from the model in part (b) by imposing linear restrictions of the type R\f",
    " = r. Derive the number of restrictions\n",
    "(g) and determine R and r.**"
   ]
  },
  {
   "cell_type": "code",
   "execution_count": 28,
   "metadata": {},
   "outputs": [
    {
     "name": "stdout",
     "output_type": "stream",
     "text": [
      "0.2332\n",
      "0.4664\n",
      "0.6996\n"
     ]
    }
   ],
   "source": [
    "#From level 1 to level 2\n",
    "print(b4)\n",
    "#From level 1 to level 3\n",
    "print(b4*2)\n",
    "#From level 1 to level 4\n",
    "print(b4*3)"
   ]
  },
  {
   "cell_type": "code",
   "execution_count": 29,
   "metadata": {},
   "outputs": [
    {
     "name": "stdout",
     "output_type": "stream",
     "text": [
      "0.06319999999999998\n",
      "0.0232\n",
      "-0.15280000000000002\n",
      "-0.06640000000000001\n"
     ]
    }
   ],
   "source": [
    "#LVL 1 TO 2 - COMPARISON\n",
    "print(b4-bDF2)\n",
    "\n",
    "#LVL 2 to 3 - COMPARISON\n",
    "print(b4-(bDF3-bDF2))\n",
    "\n",
    "#LVL 3 to 4 - COMPARISON\n",
    "print(b4-(bDF4-bDF3))\n",
    "\n",
    "#LVL 1 to 4 - COMPARISON\n",
    "print(3*b4-(bDF4))"
   ]
  },
  {
   "cell_type": "markdown",
   "metadata": {},
   "source": [
    "*The marginal effect given by alternative model b is bigger for higher education levels. In changes within the lower level (1 to 2 and even 2 to 3, the marginal effect is highen in both cases on the original model a).*  **The accumulated effect (from 1 to 4) is higher on the bmodel, due to the huge difference in the marginal effect of the change from lvl 3 to lvl 4**"
   ]
  },
  {
   "cell_type": "code",
   "execution_count": 30,
   "metadata": {},
   "outputs": [
    {
     "name": "stdout",
     "output_type": "stream",
     "text": [
      "0.2332\n",
      "0.2332\n",
      "0.2332\n"
     ]
    }
   ],
   "source": [
    "#From level 1 to level 2\n",
    "print(b4)\n",
    "#from level 2 to level 3\n",
    "print(b4)\n",
    "#from level 3 to level 4\n",
    "print(b4)"
   ]
  },
  {
   "cell_type": "markdown",
   "metadata": {},
   "source": [
    "So, **DF2 = b4, DF3 = 2b4 and DF4 = 3b4**"
   ]
  }
 ],
 "metadata": {
  "kernelspec": {
   "display_name": "Python 3 (ipykernel)",
   "language": "python",
   "name": "python3"
  },
  "language_info": {
   "codemirror_mode": {
    "name": "ipython",
    "version": 3
   },
   "file_extension": ".py",
   "mimetype": "text/x-python",
   "name": "python",
   "nbconvert_exporter": "python",
   "pygments_lexer": "ipython3",
   "version": "3.8.5"
  }
 },
 "nbformat": 4,
 "nbformat_minor": 4
}
